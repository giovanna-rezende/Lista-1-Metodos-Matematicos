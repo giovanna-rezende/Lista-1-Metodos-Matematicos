{
  "nbformat": 4,
  "nbformat_minor": 0,
  "metadata": {
    "colab": {
      "name": "Lista1_Met_Mat_Eng_Nuc.ipynb",
      "provenance": [],
      "collapsed_sections": []
    },
    "kernelspec": {
      "name": "python3",
      "display_name": "Python 3"
    }
  },
  "cells": [
    {
      "cell_type": "code",
      "metadata": {
        "id": "RCdhTYAgYIZb"
      },
      "source": [
        "from sympy import integrate\n",
        "from sympy import symbols\n",
        "from sympy import E\n",
        "from sympy import ln\n",
        "from sympy import N\n",
        "from sympy import sin, cos, pi\n",
        "x = symbols('x')"
      ],
      "execution_count": 23,
      "outputs": []
    },
    {
      "cell_type": "code",
      "metadata": {
        "id": "lYKO10kGYpTm",
        "outputId": "568c204d-0779-45a6-b3c1-5fe0a8f91524",
        "colab": {
          "base_uri": "https://localhost:8080/",
          "height": 35
        }
      },
      "source": [
        "# Exercício 2e, Seção 7-1\n",
        "# f(x) = |x - 1/2|, g(x) = 1/2 - |x - 1/2|\n",
        "\n",
        "prodInt_fg_1 = integrate(-x+1/2, (x,0,1/2))\n",
        "prodInt_fg_2 = integrate(x-1/2, (x,1/2,1))\n",
        "prodInt_fg_3 = integrate(pow(x,2)-x+1/4, (x,0,1))\n",
        "valor_num_prodInt = (1/2)*(prodInt_fg_1 + prodInt_fg_2) + prodInt_fg_3\n",
        "print(\"O valor numérico da integral é: \", valor_num_prodInt)"
      ],
      "execution_count": 4,
      "outputs": [
        {
          "output_type": "stream",
          "text": [
            "O valor numérico da integral é:  0.208333333333333\n"
          ],
          "name": "stdout"
        }
      ]
    },
    {
      "cell_type": "code",
      "metadata": {
        "id": "MoTDQN1yauxJ",
        "outputId": "286aa0fb-f7df-44bf-af31-c47adf9a97fe",
        "colab": {
          "base_uri": "https://localhost:8080/",
          "height": 52
        }
      },
      "source": [
        "# Exercício 3a, Seção 7-1\n",
        "# f(x) = 1 - 2x, g(x) = e^-x, r(x) = e^x\n",
        "\n",
        "f = 1 - 2*x\n",
        "g = pow(E, -x)\n",
        "r = pow(E, x)\n",
        "prodInt_simb = integrate(f*g*r)\n",
        "prodInt_num = integrate(f*g*r, (x,0,1))\n",
        "print(\"Integral simbólica f*g: \", prodInt_simb)\n",
        "print(\"Valor numérico de f*g: \", prodInt_num)"
      ],
      "execution_count": 17,
      "outputs": [
        {
          "output_type": "stream",
          "text": [
            "Integral simbólica f*g:  -x**2 + x\n",
            "Valor numérico de f*g:  0\n"
          ],
          "name": "stdout"
        }
      ]
    },
    {
      "cell_type": "code",
      "metadata": {
        "id": "BJKVzExhiCrQ",
        "outputId": "90762946-1049-41c6-d34b-ea87c25de677",
        "colab": {
          "base_uri": "https://localhost:8080/",
          "height": 52
        }
      },
      "source": [
        "# Exercício 3e, Seção 7-2\n",
        "# f(x) = ln(x+1)\n",
        "\n",
        "f = ln(x+1)\n",
        "mod_f_simb = pow(integrate(pow(f,2)), 1/2)\n",
        "mod_f_num = pow(integrate(pow(f,2), (x,0,1)),1/2)\n",
        "print(\"Integral simbólica de ||f||: \", mod_f_simb)\n",
        "print(\"Valor numérico de ||f||: \", N(mod_f_num))"
      ],
      "execution_count": 18,
      "outputs": [
        {
          "output_type": "stream",
          "text": [
            "Integral simbólica de ||f||:  (-2*x*log(x + 1) + 2*x + (x + 1)*log(x + 1)**2 - 2*log(x + 1))**0.5\n",
            "Valor numérico de ||f||:  0.433955418904548\n"
          ],
          "name": "stdout"
        }
      ]
    },
    {
      "cell_type": "code",
      "metadata": {
        "id": "l1wnfmofj9zd",
        "outputId": "1f8d2785-a26c-425c-e539-4e2e69e93144",
        "colab": {
          "base_uri": "https://localhost:8080/",
          "height": 52
        }
      },
      "source": [
        "# Exercício 5, item ii, Seção 7-2\n",
        "# p(x) = x, q(x) = x^2\n",
        "\n",
        "# a\n",
        "p = x\n",
        "q = pow(x,2)\n",
        "prodInt_pq = integrate(p*q, (x,-1,1))\n",
        "mod_p = pow(integrate(pow(p,2), (x,-1,1)),1/2)\n",
        "mod_q = pow(integrate(pow(q,2), (x,-1,1)),1/2)\n",
        "cosseno = prodInt_pq/(mod_p*mod_q)\n",
        "print(\"cos theta = \", cosseno)\n",
        "\n",
        "# b\n",
        "prodInt_pq = integrate(p*q, (x,0,1))\n",
        "mod_p = pow(integrate(pow(p,2), (x,0,1)),1/2)\n",
        "mod_q = pow(integrate(pow(q,2), (x,0,1)),1/2)\n",
        "cosseno = prodInt_pq/(mod_p*mod_q)\n",
        "print(\"cos theta = \", cosseno)"
      ],
      "execution_count": 21,
      "outputs": [
        {
          "output_type": "stream",
          "text": [
            "cos theta =  0\n",
            "cos theta =  0.968245836551854\n"
          ],
          "name": "stdout"
        }
      ]
    },
    {
      "cell_type": "code",
      "metadata": {
        "id": "jmalfnwZoHr8",
        "outputId": "dc287d1f-9d8b-4317-a02c-a91fa6154727",
        "colab": {
          "base_uri": "https://localhost:8080/",
          "height": 87
        }
      },
      "source": [
        "# Exercício 1, Seção 7-3\n",
        "# f(x) = sin(x), g(x) = cos(x)\n",
        "# Verificar se ||f+g||^2 = ||f||^2 + ||g||^2\n",
        "\n",
        "f = sin(x)\n",
        "g = cos(x)\n",
        "modulo_soma_quadrado = integrate(pow(f+g,2), (x,-pi,pi))\n",
        "modulo_f_quadrado = integrate(pow(f,2), (x,-pi,pi))\n",
        "modulo_g_quadrado = integrate(pow(g,2), (x,-pi,pi))\n",
        "print(\"||f+g||^2 = \", modulo_soma_quadrado)\n",
        "print(\"||f||^2 = \", modulo_f_quadrado)\n",
        "print(\"||g||^2 = \", modulo_g_quadrado)\n",
        "if modulo_soma_quadrado == (modulo_f_quadrado + modulo_g_quadrado):\n",
        "  print(\"O teorema de Pitágoras é válido.\")"
      ],
      "execution_count": 25,
      "outputs": [
        {
          "output_type": "stream",
          "text": [
            "||f+g||^2 =  2*pi\n",
            "||f||^2 =  pi\n",
            "||g||^2 =  pi\n",
            "O teorema de Pitágoras é válido.\n"
          ],
          "name": "stdout"
        }
      ]
    },
    {
      "cell_type": "code",
      "metadata": {
        "id": "2zLitR7EqdmJ",
        "outputId": "fe204c1a-635b-448f-9741-63e3320b4507",
        "colab": {
          "base_uri": "https://localhost:8080/",
          "height": 87
        }
      },
      "source": [
        "# Exercício 3, Seção 7-3\n",
        "# p(x) = 1, q(x) = x, r(x) = x^2 - 1/3\n",
        "\n",
        "p = 1\n",
        "q = x\n",
        "r = pow(x,2) - 1/3\n",
        "prodInt_pq = integrate(p*q, (x,-1,1))\n",
        "prodInt_pr = integrate(p*r, (x,-1,1))\n",
        "prodInt_qr = integrate(q*r, (x,-1,1))\n",
        "print(\"p*q = \", prodInt_pq)\n",
        "print(\"p*r = \", prodInt_pr)\n",
        "print(\"q*r = \", prodInt_qr)\n",
        "if (prodInt_pq == 0) and (prodInt_pr == 0) and (prodInt_qr == 0):\n",
        "  print(\"Os vetores dos polinômios p, q e r são ortogonais entre si.\")"
      ],
      "execution_count": 26,
      "outputs": [
        {
          "output_type": "stream",
          "text": [
            "p*q =  0\n",
            "p*r =  0\n",
            "q*r =  0\n",
            "Os vetores dos polinômios p, q e r são ortogonais entre si.\n"
          ],
          "name": "stdout"
        }
      ]
    },
    {
      "cell_type": "code",
      "metadata": {
        "id": "zI6M9wkYuSwW",
        "outputId": "c6cb382c-aeb4-42a1-9753-036072b041ce",
        "colab": {
          "base_uri": "https://localhost:8080/",
          "height": 87
        }
      },
      "source": [
        "# Exercício 5, seção 7-3\n",
        "# p(x) = 1, q(x) = x, r(x) = x^2 - 1/3\n",
        "\n",
        "p = 1\n",
        "q = x\n",
        "r = pow(x,2) - 1/3\n",
        "modulo_p = pow(integrate(p*p, (x,-1,1)),1/2)\n",
        "modulo_q = pow(integrate(q*q, (x,-1,1)),1/2)\n",
        "modulo_r = pow(integrate(r*r, (x,-1,1)),1/2)\n",
        "p_unitario = p/modulo_p\n",
        "q_unitario = q/modulo_q\n",
        "r_unitario = r/modulo_r\n",
        "print(\"Os vetores ortormais são: \")\n",
        "print(\"p = \", p_unitario)\n",
        "print(\"q = \", q_unitario)\n",
        "print(\"r = \", r_unitario)"
      ],
      "execution_count": 27,
      "outputs": [
        {
          "output_type": "stream",
          "text": [
            "Os vetores ortormais são: \n",
            "p =  0.707106781186547\n",
            "q =  1.22474487139159*x\n",
            "r =  2.37170824512628*x**2 - 0.790569415042095\n"
          ],
          "name": "stdout"
        }
      ]
    },
    {
      "cell_type": "code",
      "metadata": {
        "id": "ASy_oX8Vv2du"
      },
      "source": [
        ""
      ],
      "execution_count": null,
      "outputs": []
    }
  ]
}